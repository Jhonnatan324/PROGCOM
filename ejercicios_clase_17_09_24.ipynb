{
  "nbformat": 4,
  "nbformat_minor": 0,
  "metadata": {
    "colab": {
      "provenance": []
    },
    "kernelspec": {
      "name": "python3",
      "display_name": "Python 3"
    },
    "language_info": {
      "name": "python"
    }
  },
  "cells": [
    {
      "cell_type": "code",
      "execution_count": 3,
      "metadata": {
        "colab": {
          "base_uri": "https://localhost:8080/"
        },
        "id": "Q9mKj0w0cEfb",
        "outputId": "3d026751-e8ea-494b-b544-5ff80e449e7d"
      },
      "outputs": [
        {
          "output_type": "stream",
          "name": "stdout",
          "text": [
            "Digite su nombre: tomi\n",
            "Digite su código: 123\n",
            "\n",
            "UNIVERSIDAD AUTÓNOMA DE BUCARAMANGA\n",
            "Nombre del estudiante: tomi\n",
            "Código: 123\n"
          ]
        }
      ],
      "source": [
        "#ejercicio 1\n",
        "nombre = input(\"Digite su nombre: \")\n",
        "codigo = input(\"Digite su código: \")\n",
        "print(\"\\nUNIVERSIDAD AUTÓNOMA DE BUCARAMANGA\")\n",
        "print(\"Nombre del estudiante:\", nombre)\n",
        "print(\"Código:\", codigo)"
      ]
    },
    {
      "cell_type": "code",
      "source": [
        "#ejercicio 2\n",
        "radio = float(input(\"Digite el radio de la base del cono: \"))\n",
        "altura = float(input(\"Digite la altura del cono: \"))\n",
        "volumen = (1/3) * 3.14159 * (radio ** 2) * altura\n",
        "print(\"El volumen del cono es:\", volumen)"
      ],
      "metadata": {
        "colab": {
          "base_uri": "https://localhost:8080/"
        },
        "id": "C79B791bgZed",
        "outputId": "04f844d0-8c26-4b1c-e813-c12c18d26978"
      },
      "execution_count": 5,
      "outputs": [
        {
          "output_type": "stream",
          "name": "stdout",
          "text": [
            "Digite el radio de la base del cono: 34.43\n",
            "Digite la altura del cono: 3.2\n",
            "El volumen del cono es: 3972.393612363733\n"
          ]
        }
      ]
    },
    {
      "cell_type": "code",
      "source": [
        "#ejercicio 3\n",
        "n = int(input(\"Digite el número de servidores: \"))\n",
        "if n < 2:\n",
        "    print(\"Debe haber al menos 2 servidores para establecer conexiones.\")\n",
        "else:\n",
        "    numero_de_conexiones = (n * (n - 1)) // 2\n",
        "    print(\"Número total de conexiones entre los servidores:\", numero_de_conexiones)"
      ],
      "metadata": {
        "colab": {
          "base_uri": "https://localhost:8080/"
        },
        "id": "39nMswxMhZJd",
        "outputId": "5f1af238-631b-4166-95fc-97fbd1c861a8"
      },
      "execution_count": 10,
      "outputs": [
        {
          "output_type": "stream",
          "name": "stdout",
          "text": [
            "Digite el número de servidores: 33\n",
            "Número total de conexiones entre los servidores: 528\n"
          ]
        }
      ]
    },
    {
      "cell_type": "code",
      "source": [
        "#ejercicio 4\n",
        "celsius = float(input(\"Digite la temperatura en grados Celsius: \"))\n",
        "fahrenheit = (9/5) * celsius + 32\n",
        "kelvin = celsius + 273.15\n",
        "print(f\"Temperatura en Fahrenheit: {fahrenheit:.2f} °F\")\n",
        "print(f\"Temperatura en Kelvin: {kelvin:.2f} K\")"
      ],
      "metadata": {
        "colab": {
          "base_uri": "https://localhost:8080/"
        },
        "id": "HW9Yc2DZoBqg",
        "outputId": "8fd92cd2-97ce-49cf-bc3d-6a11cfe64edb"
      },
      "execution_count": 17,
      "outputs": [
        {
          "output_type": "stream",
          "name": "stdout",
          "text": [
            "Digite la temperatura en grados Celsius: 33\n",
            "Temperatura en Fahrenheit: 91.40 °F\n",
            "Temperatura en Kelvin: 306.15 K\n"
          ]
        }
      ]
    },
    {
      "cell_type": "code",
      "source": [
        "#ejercicio 5\n",
        "articulos = {\"laptop\": 1200,\"smartphone\": 800,\"tablet\": 350,\"ratón\": 28,\"teclado\": 65}\n",
        "print(\"Bienvenido a la tienda de electrónica\")\n",
        "articulo_deseado = input(\"¿Cuál artículo deseas consultar el precio? \").lower()\n",
        "if articulo_deseado in articulos:\n",
        "    print(f\"El precio del {articulo_deseado} es: ${articulos[articulo_deseado]:.2f}\")\n",
        "else:\n",
        "    print(\"Lo siento, el artículo no está disponible en nuestra tienda.\")"
      ],
      "metadata": {
        "colab": {
          "base_uri": "https://localhost:8080/"
        },
        "id": "pbOlpcProIlo",
        "outputId": "8faff76e-aac8-41f3-cf90-12eb8fd599ea"
      },
      "execution_count": 19,
      "outputs": [
        {
          "output_type": "stream",
          "name": "stdout",
          "text": [
            "Bienvenido a la tienda de electrónica\n",
            "¿Cuál artículo deseas consultar el precio? madera\n",
            "Lo siento, el artículo no está disponible en nuestra tienda.\n"
          ]
        }
      ]
    },
    {
      "cell_type": "code",
      "source": [],
      "metadata": {
        "id": "SetzZrlvoeqH"
      },
      "execution_count": null,
      "outputs": []
    },
    {
      "cell_type": "code",
      "source": [
        "#ejercicio 6\n",
        "def calcular_resistencia_total():\n",
        "    n = int(input(\"Ingrese el número de resistencias: \"))\n",
        "\n",
        "    resistencias = [float(input(f\"Resistencia {i+1}: \")) for i in range(n)]\n",
        "\n",
        "    tipo_conexion = input(\"Serie o Paralelo?: \").lower()\n",
        "\n",
        "    if tipo_conexion == \"serie\":\n",
        "        resistencia_total = sum(resistencias)\n",
        "    elif tipo_conexion == \"paralelo\":\n",
        "        resistencia_total = 1 / sum(1/r for r in resistencias)\n",
        "    else:\n",
        "        print(\"Conexión no válida.\")\n",
        "        return\n",
        "\n",
        "    print(f\"La resistencia total es: {resistencia_total:.2f} ohmnios\")\n",
        "\n",
        "if __name__ == \"__main__\":\n",
        "    calcular_resistencia_total()"
      ],
      "metadata": {
        "colab": {
          "base_uri": "https://localhost:8080/"
        },
        "id": "YvFqQ0slouRv",
        "outputId": "5ad57535-9b12-49cd-8211-2b3b86e3efec"
      },
      "execution_count": 20,
      "outputs": [
        {
          "output_type": "stream",
          "name": "stdout",
          "text": [
            "Ingrese el número de resistencias: 2\n",
            "Resistencia 1: 3\n",
            "Resistencia 2: 5\n",
            "¿Serie o Paralelo?: paralelo\n",
            "La resistencia total es: 1.88 ohmios\n"
          ]
        }
      ]
    },
    {
      "cell_type": "code",
      "source": [
        "#ejercicio 7\n",
        "def convertir_temperaturas():\n",
        "\n",
        "    celsius = float(input(\"Ingrese la temperatura en grados Celsius: \"))\n",
        "\n",
        "    if celsius >= 0:\n",
        "\n",
        "        fahrenheit = (9/5) * celsius + 32\n",
        "\n",
        "        kelvin = celsius + 273.15\n",
        "\n",
        "\n",
        "        print(f\"Temperatura en Fahrenheit: {fahrenheit:.2f} °F\")\n",
        "        print(f\"Temperatura en Kelvin: {kelvin:.2f} K\")\n",
        "    else:\n",
        "        print(\"La temperatura debe ser positiva.\")\n",
        "\n",
        "if __name__ == \"__main__\":\n",
        "    convertir_temperaturas()"
      ],
      "metadata": {
        "id": "fhzw5JxZqQiv"
      },
      "execution_count": null,
      "outputs": []
    },
    {
      "cell_type": "code",
      "source": [
        "#ejercicio 8\n",
        "def convertir_a_12_horas(h, m):\n",
        "    if h == 0:\n",
        "        horas_12 = 12\n",
        "        sufijo = \"AM\"\n",
        "    elif h == 12:\n",
        "        horas_12 = 12\n",
        "        sufijo = \"PM\"\n",
        "    elif h > 12:\n",
        "        horas_12 = h - 12\n",
        "        sufijo = \"PM\"\n",
        "    else:\n",
        "        horas_12 = h\n",
        "        sufijo = \"AM\"\n",
        "\n",
        "\n",
        "    print(f\"El tiempo en formato 12 horas es: {horas_12}:{m:02d} {sufijo}\")\n",
        "\n",
        "\n",
        "horas = int(input(\"Ingrese las horas (en formato 24h): \"))\n",
        "minutos = int(input(\"Ingrese los minutos: \"))\n",
        "\n",
        "convertir_a_12_horas(horas, minutos)"
      ],
      "metadata": {
        "id": "r6pdvAc2vaoz"
      },
      "execution_count": null,
      "outputs": []
    },
    {
      "cell_type": "code",
      "source": [
        "#ejercicio 9\n",
        "def clasificar_carrera(codigo):\n",
        "    # Clasificación de la carrera según el código\n",
        "    if codigo.startswith('CS'):\n",
        "        return 'Ciencias de la Computación'\n",
        "    elif codigo.startswith('ME'):\n",
        "        return 'Ingeniería Mecánica'\n",
        "    elif codigo.startswith('BI'):\n",
        "        return 'Biología'\n",
        "    elif codigo.startswith('CH'):\n",
        "        return 'Química'\n",
        "    else:\n",
        "        return 'Carrera desconocida'\n",
        "\n",
        "def main():\n",
        "    # Nombre de la institución educativa\n",
        "    nombre_institucion = \"Universidad Ejemplo\"\n",
        "\n",
        "    # Leer el número de estudiantes\n",
        "    n = int(input(\"Ingrese el número de estudiantes: \"))\n",
        "\n",
        "    for _ in range(n):\n",
        "        # Leer el nombre del estudiante y el código\n",
        "        nombre = input(\"Ingrese el nombre del estudiante: \")\n",
        "        codigo = input(\"Ingrese el código del estudiante: \")\n",
        "\n",
        "        # Clasificar la carrera\n",
        "        carrera = clasificar_carrera(codigo)\n",
        "\n",
        "        # Imprimir la información\n",
        "        print(f\"Nombre del estudiante: {nombre}\")\n",
        "        print(f\"Carrera: {carrera}\")\n",
        "        print(f\"Institución Educativa: {nombre_institucion}\")\n",
        "        print()\n",
        "\n",
        "if __name__ == \"__main__\":\n",
        "    main()"
      ],
      "metadata": {
        "id": "UwGUCyWivky7"
      },
      "execution_count": null,
      "outputs": []
    },
    {
      "cell_type": "code",
      "source": [
        "#ejercicio 10\n",
        "import math\n",
        "\n",
        "def ejecutar_trigonometricas():\n",
        "\n",
        "    grados = float(input(\"Ingrese el valor de x en grados: \"))\n",
        "\n",
        "\n",
        "    radianes = math.radians(grados)\n",
        "\n",
        "\n",
        "    print(\"Seleccione una opción:\")\n",
        "    print(\"1: Calcular seno (sen(x))\")\n",
        "    print(\"2: Calcular coseno (cos(x))\")\n",
        "    print(\"3: Calcular tangente (tan(x))\")\n",
        "\n",
        "\n",
        "    opcion = int(input(\"Ingrese el número de la opción deseada: \"))\n",
        "\n",
        "\n",
        "    if opcion == 1:\n",
        "        resultado = math.sin(radianes)\n",
        "        print(f\"sen({grados}°) = {resultado:.4f}\")\n",
        "    elif opcion == 2:\n",
        "        resultado = math.cos(radianes)\n",
        "        print(f\"cos({grados}°) = {resultado:.4f}\")\n",
        "    elif opcion == 3:\n",
        "        if math.cos(radianes) == 0:\n",
        "            print(\"Error: La tangente no está definida para este valor de x (cos(x) = 0).\")\n",
        "        else:\n",
        "            resultado = math.tan(radianes)\n",
        "            print(f\"tan({grados}°) = {resultado:.4f}\")\n",
        "    else:\n",
        "        print(\"Opción no válida. Por favor, seleccione una opción entre 1 y 3.\")\n",
        "\n",
        "if __name__ == \"__main__\":\n",
        "    ejecutar_trigonometricas()"
      ],
      "metadata": {
        "id": "dLxdu5y_vu3q"
      },
      "execution_count": null,
      "outputs": []
    }
  ]
}