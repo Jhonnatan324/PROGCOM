{
  "nbformat": 4,
  "nbformat_minor": 0,
  "metadata": {
    "colab": {
      "provenance": [],
      "authorship_tag": "ABX9TyOvveINC/B644lWBiOhXKUl",
      "include_colab_link": true
    },
    "kernelspec": {
      "name": "python3",
      "display_name": "Python 3"
    },
    "language_info": {
      "name": "python"
    }
  },
  "cells": [
    {
      "cell_type": "markdown",
      "metadata": {
        "id": "view-in-github",
        "colab_type": "text"
      },
      "source": [
        "<a href=\"https://colab.research.google.com/github/Jhonnatan324/PROGCOM/blob/main/los_del_sur_ejercicio_de_clase_15_10_24.ipynb\" target=\"_parent\"><img src=\"https://colab.research.google.com/assets/colab-badge.svg\" alt=\"Open In Colab\"/></a>"
      ]
    },
    {
      "cell_type": "code",
      "source": [
        "class Estudiante:\n",
        "    def __init__(self, nombre):\n",
        "        self.nombre = nombre\n",
        "        self.nota1 = 0\n",
        "        self.nota2 = 0\n",
        "        self.nota3 = 0\n",
        "        self.nota_final = 0\n",
        "\n",
        "    def ingresar_notas(self):\n",
        "        try:\n",
        "            self.nota1 = float(input(\"Ingresa la Nota 1: \"))\n",
        "            self.nota2 = float(input(\"Ingresa la Nota 2: \"))\n",
        "            self.nota3 = float(input(\"Ingresa la Nota 3: \"))\n",
        "            self.calcular_promedio()\n",
        "        except ValueError:\n",
        "            print(\"Error: Debes ingresar un número válido.\")\n",
        "            self.ingresar_notas()\n",
        "\n",
        "    def calcular_promedio(self):\n",
        "        self.nota_final = (self.nota1 + self.nota2 + self.nota3) / 3\n",
        "\n",
        "    def estado(self):\n",
        "        return \"Aprobado\" if self.nota_final >= 70 else \"Reprobado\"\n",
        "\n",
        "\n",
        "class Clase:\n",
        "    def __init__(self, nombre):\n",
        "        self.nombre = nombre\n",
        "        self.estudiantes = []  # Cambiamos a una lista para almacenar estudiantes\n",
        "\n",
        "    def agregar_estudiante(self, estudiante):\n",
        "        self.estudiantes.append(estudiante)\n",
        "\n",
        "    def reportar(self):\n",
        "        print(f\"\\nReporte de la Clase: {self.nombre}\")\n",
        "        print(f\"{'Nombre':20} {'Nota 1':6} {'Nota 2':6} {'Nota 3':6} {'Nota Final':10} {'Estado'}\")\n",
        "        for estudiante in self.estudiantes:\n",
        "            estado = estudiante.estado()\n",
        "            print(f\"{estudiante.nombre:20} {estudiante.nota1:6} {estudiante.nota2:6} {estudiante.nota3:6} {estudiante.nota_final:10.2f}   {estado}\")\n",
        "        print(f\"\\nTOTAL {len(self.estudiantes)} ESTUDIANTES\")\n",
        "\n",
        "\n",
        "# Ejemplo de uso\n",
        "if __name__ == \"__main__\":\n",
        "    clase = Clase(\"Matemáticas\")\n",
        "    while True:\n",
        "        nombre = input(\"Ingresa el nombre del estudiante (o 'salir' para terminar): \")\n",
        "        if nombre.lower() == 'salir':\n",
        "            break\n",
        "        estudiante = Estudiante(nombre)\n",
        "        estudiante.ingresar_notas()\n",
        "        clase.agregar_estudiante(estudiante)\n",
        "\n",
        "    clase.reportar()\n"
      ],
      "metadata": {
        "colab": {
          "base_uri": "https://localhost:8080/"
        },
        "id": "fDYYiRMFyULr",
        "outputId": "136f6cac-4179-421c-a832-bb2dffb28085"
      },
      "execution_count": 7,
      "outputs": [
        {
          "output_type": "stream",
          "name": "stdout",
          "text": [
            "Ingresa el nombre del estudiante (o 'salir' para terminar): tomas\n",
            "Ingresa la Nota 1: 56\n",
            "Ingresa la Nota 2: 89\n",
            "Ingresa la Nota 3: 70\n",
            "Ingresa el nombre del estudiante (o 'salir' para terminar): salir\n",
            "\n",
            "Reporte de la Clase: Matemáticas\n",
            "Nombre               Nota 1 Nota 2 Nota 3 Nota Final Estado\n",
            "tomas                  56.0   89.0   70.0      71.67   Aprobado\n",
            "\n",
            "TOTAL 1 ESTUDIANTES\n"
          ]
        }
      ]
    }
  ]
}