{
  "cells": [
    {
      "cell_type": "markdown",
      "metadata": {
        "id": "kDa0wtefDbfM"
      },
      "source": [
        "#Estructuras de selección\n",
        "\n",
        "\n",
        "1.   Si - sino: if - else\n",
        "2. Operador terniario\n",
        "3. Estructura switch\n",
        "  - if /elif /else\n",
        "  - match - case\n",
        "\n"
      ]
    },
    {
      "cell_type": "code",
      "execution_count": null,
      "metadata": {
        "colab": {
          "base_uri": "https://localhost:8080/"
        },
        "id": "XECHLShTDXEX",
        "outputId": "bc92ba93-602f-4079-bbc3-bd72cd782426"
      },
      "outputs": [
        {
          "name": "stdout",
          "output_type": "stream",
          "text": [
            "Deseas aprender a programar?SÍ\n",
            "Reconsidéralo\n"
          ]
        }
      ],
      "source": [
        "#Las dos variables no eran iguales (Respuesta - respuesta)\n",
        "#Las variables se escriben en minúscula\n",
        "# if y else van en minúscula\n",
        "respuesta=input(\"Deseas aprender a programar?\").capitalize()\n",
        "if respuesta==\"Si\":\n",
        "  #Estamos dentro del si\n",
        "  print(\"Empieza a hacer ejercicios\")\n",
        "else:\n",
        "  #Estamos dentro del sino\n",
        "  print(\"Reconsidéralo\")\n"
      ]
    },
    {
      "cell_type": "markdown",
      "metadata": {
        "id": "ehFpcBt0GINI"
      },
      "source": [
        "Ejemplos:\n",
        "1. Dividir dos números siempre y cuando el denominador no sea 0\n",
        "2. Definir si un número es mayor que 5 y menor a 15.\n",
        "3. Definir si un número es mayor que n o menor e igual que m.\n",
        "4. Definir si una letra es m o no\n",
        "5. Verificar si un número es par o impar.\n",
        "6. Decrementa en 1 una unidad, si x es mayor que 5"
      ]
    },
    {
      "cell_type": "code",
      "execution_count": 1,
      "metadata": {
        "colab": {
          "base_uri": "https://localhost:8080/"
        },
        "id": "BYwkQkbOH95o",
        "outputId": "32c96c4b-5600-41ef-85bb-fe69704d38f6"
      },
      "outputs": [
        {
          "name": "stdout",
          "output_type": "stream",
          "text": [
            "Ingrese un número: 9\n",
            "Ingrese otro número: 15\n"
          ]
        }
      ],
      "source": [
        "#Ejercicio 3: Definir si un número es mayor que n y menor o igual que m\n",
        "n=int(input(\"Ingrese un número: \"))\n",
        "m=int(input(\"Ingrese otro número: \"))"
      ]
    },
    {
      "cell_type": "code",
      "execution_count": 2,
      "metadata": {
        "colab": {
          "base_uri": "https://localhost:8080/"
        },
        "id": "Ehvl-_jIFA2C",
        "outputId": "0ff8333a-6bd2-4050-9bb2-e91ef905eed5"
      },
      "outputs": [
        {
          "name": "stdout",
          "output_type": "stream",
          "text": [
            "Ingrese otro número4\n",
            "El número 4 no es mayor que 9 y menor o igual que 15\n"
          ]
        }
      ],
      "source": [
        "x=int(input(\"Ingrese otro número\"))\n",
        "if x>n and x<=m:\n",
        "  print(f\"El número {x} es mayor que {n} y menor o igual que {m}\")\n",
        "else:\n",
        "  print(f\"El número {x} no es mayor que {n} y menor o igual que {m}\")"
      ]
    },
    {
      "cell_type": "code",
      "execution_count": 15,
      "metadata": {
        "colab": {
          "base_uri": "https://localhost:8080/"
        },
        "id": "KSB-gBwHdtyi",
        "outputId": "718ab061-7af5-4d0a-971f-cf2cd6a45b16"
      },
      "outputs": [
        {
          "name": "stdout",
          "output_type": "stream",
          "text": [
            "El número 5 no es mayor que 9 y menor o igual que 15\n"
          ]
        }
      ],
      "source": [
        "b=print(f\"El número {x} es mayor que {n} y menor o igual que {m}\") if x>n and x<=m else print(f\"El número {x} no es mayor que {n} y menor o igual que {m}\")"
      ]
    },
    {
      "cell_type": "code",
      "execution_count": 3,
      "metadata": {
        "colab": {
          "base_uri": "https://localhost:8080/"
        },
        "id": "GXyIXZawMezN",
        "outputId": "762df1d3-5dc6-4f59-e8b3-5c6dac37d1fb"
      },
      "outputs": [
        {
          "name": "stdout",
          "output_type": "stream",
          "text": [
            "Ingrese otro número:11\n",
            "El número 11 es mayor que 9 y menor o igual que 15\n"
          ]
        }
      ],
      "source": [
        "x=int(input(\"Ingrese otro número:\"))\n",
        "if x>n and x<=m:\n",
        "  print(f\"El número {x} es mayor que {n} y menor o igual que {m}\")\n",
        "elif x>n and x>m:\n",
        "  print(f\"El número {x} es mayor que {n} pero no es menor o igual que {m}\")\n",
        "elif x<n and x<=m:\n",
        "  print(f\"El número {x} no es mayor que {n} pero es menor o igual que {m}\")"
      ]
    },
    {
      "cell_type": "code",
      "execution_count": 4,
      "metadata": {
        "colab": {
          "base_uri": "https://localhost:8080/"
        },
        "id": "JoXUu7CeNdP7",
        "outputId": "49755c57-e74f-4153-c96c-3c98ade7ced3"
      },
      "outputs": [
        {
          "name": "stdout",
          "output_type": "stream",
          "text": [
            "Ingrese otro número9\n",
            "El número 9 no es mayor que 9 pero es menor o igual que 15\n"
          ]
        }
      ],
      "source": [
        "x=int(input(\"Ingrese otro número\"))\n",
        "if x>n and x<=m:\n",
        "  print(f\"El número {x} es mayor que {n} y menor o igual que {m}\")\n",
        "else:\n",
        "  if x>n: print(f\"El número {x} es mayor que {n} pero no es menor o igual que {m}\")\n",
        "  else: print(f\"El número {x} no es mayor que {n} pero es menor o igual que {m}\")"
      ]
    },
    {
      "cell_type": "code",
      "execution_count": 5,
      "metadata": {
        "colab": {
          "base_uri": "https://localhost:8080/"
        },
        "id": "i5ilsPdROgXb",
        "outputId": "6012decb-966d-4487-fdf8-22e5f9665fba"
      },
      "outputs": [
        {
          "name": "stdout",
          "output_type": "stream",
          "text": [
            "Ingrese una letra: j\n",
            "No ingresaste una m\n"
          ]
        }
      ],
      "source": [
        "#4. Definir si una letra es m o no. Modo novato\n",
        "letra=input(\"Ingrese una letra: \")\n",
        "if letra==\"m\" or letra==\"M\":\n",
        "  print(\"Ingresaste una m\")\n",
        "else: print(\"No ingresaste una m\")"
      ]
    },
    {
      "cell_type": "code",
      "execution_count": 18,
      "metadata": {
        "id": "B2nT_XPIc92a"
      },
      "outputs": [],
      "source": [
        "b=\"Ingresaste una m\" if letra==\"m\" or letra==\"M\" else \"No ingresaste una m\""
      ]
    },
    {
      "cell_type": "code",
      "execution_count": 13,
      "metadata": {
        "colab": {
          "base_uri": "https://localhost:8080/"
        },
        "id": "i5Sy_1uLPQlh",
        "outputId": "2633179a-276f-47dd-cf14-1ff322a2f725"
      },
      "outputs": [
        {
          "name": "stdout",
          "output_type": "stream",
          "text": [
            "Ingrese una letra: M\n",
            "Ingresaste una m\n"
          ]
        }
      ],
      "source": [
        "#4. Definir si una letra es m o no. Modo Professional\n",
        "letra=input(\"Ingrese una letra: \").lower()\n",
        "if letra==\"m\":\n",
        "  print(\"Ingresaste una m\")\n",
        "else: print(\"No ingresaste una m\")"
      ]
    },
    {
      "cell_type": "code",
      "execution_count": 7,
      "metadata": {
        "colab": {
          "base_uri": "https://localhost:8080/"
        },
        "id": "Z3ijPMWAPv0h",
        "outputId": "9866e838-59c6-4b82-d275-6ab00a5be720"
      },
      "outputs": [
        {
          "name": "stdout",
          "output_type": "stream",
          "text": [
            "Ingrese un número: 4\n",
            "El nuevo número es 3\n"
          ]
        }
      ],
      "source": [
        "#ejercicio 6:Restar en 1 una variable si es menor que 5\n",
        "numero=int(input(\"Ingrese un número: \"))\n",
        "if numero<5: print(f\"El nuevo número es {numero-1}\")\n",
        "else: print(\"Como el número no es menor que 5, se mantiene.\")"
      ]
    },
    {
      "cell_type": "code",
      "execution_count": 26,
      "metadata": {
        "colab": {
          "base_uri": "https://localhost:8080/"
        },
        "id": "j32KH_VKfGcI",
        "outputId": "200a15ce-499b-4d4a-8f45-d8cb395035b1"
      },
      "outputs": [
        {
          "name": "stdout",
          "output_type": "stream",
          "text": [
            "Como el número no es menor que 5, se mantiene.\n"
          ]
        }
      ],
      "source": [
        "numero=int(input(\"Ingrese un número: \")) if numero<5  else print(\"Como el número no es menor que 5, se mantiene.\")"
      ]
    },
    {
      "cell_type": "code",
      "execution_count": null,
      "metadata": {
        "id": "rokkQb62UEfz"
      },
      "outputs": [],
      "source": [
        "#Ejercicio 1: Dividir dos números siempre y cuando el denominador no sea 0\n"
      ]
    },
    {
      "cell_type": "code",
      "execution_count": 22,
      "metadata": {
        "colab": {
          "base_uri": "https://localhost:8080/"
        },
        "id": "ZmizFSsOZIRd",
        "outputId": "248829cf-2e09-4181-a1d4-945511846b26"
      },
      "outputs": [
        {
          "name": "stdout",
          "output_type": "stream",
          "text": [
            "Ingrese un número4\n",
            "4 Es un número par\n"
          ]
        }
      ],
      "source": [
        "#Ejercicio 5: Verificar si un numero es par o impar\n",
        "x=int(input(\"Ingrese un número\"))\n",
        "if x%2==0:\n",
        "  print(x, \"Es un número par\")\n",
        "else:\n",
        "  print(x, \"No es un número par\")\n"
      ]
    },
    {
      "cell_type": "code",
      "execution_count": 25,
      "metadata": {
        "colab": {
          "base_uri": "https://localhost:8080/"
        },
        "id": "GPsRC90PfkTX",
        "outputId": "3b9cb404-ae06-4109-c307-274bb42e11b0"
      },
      "outputs": [
        {
          "name": "stdout",
          "output_type": "stream",
          "text": [
            "Ingrese un número2\n"
          ]
        },
        {
          "data": {
            "text/plain": [
              "2"
            ]
          },
          "execution_count": 25,
          "metadata": {},
          "output_type": "execute_result"
        }
      ],
      "source": [
        "int(input(\"Ingrese un número\")) if x%2==0 else print(x, \"No es un número par\")\n"
      ]
    },
    {
      "cell_type": "markdown",
      "metadata": {
        "id": "S2tw9Xhkc1uy"
      },
      "source": []
    },
    {
      "cell_type": "code",
      "execution_count": null,
      "metadata": {
        "id": "tSxCWwXbcepb"
      },
      "outputs": [],
      "source": []
    }
  ],
  "metadata": {
    "colab": {
      "provenance": []
    },
    "kernelspec": {
      "display_name": "Python 3",
      "name": "python3"
    },
    "language_info": {
      "name": "python"
    }
  },
  "nbformat": 4,
  "nbformat_minor": 0
}
