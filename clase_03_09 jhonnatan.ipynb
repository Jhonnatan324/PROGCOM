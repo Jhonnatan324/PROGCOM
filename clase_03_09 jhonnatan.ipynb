{
  "nbformat": 4,
  "nbformat_minor": 0,
  "metadata": {
    "colab": {
      "provenance": []
    },
    "kernelspec": {
      "name": "python3",
      "display_name": "Python 3"
    },
    "language_info": {
      "name": "python"
    }
  },
  "cells": [
    {
      "cell_type": "code",
      "execution_count": null,
      "metadata": {
        "id": "5f7LajC5gdk9"
      },
      "outputs": [],
      "source": [
        "#5.\n",
        "e=float(input(\"Ingrese el primer número \"))\n",
        "f=float(input(\"Ingrese el segundo número \"))\n",
        "g=float(input(\"Ingrese el tercer número \"))\n",
        "h=float(input(\"Ingrese el cuarto número \"))\n",
        "i=float(input(\"Ingrese el quinto número \"))\n",
        "z= (e != f) and (e != g) and (e != h) and (e != i) and (f != g) and (f != h) and (f != i) and (g != h) and (g != i) and (h != i)\n",
        "mayor= (e if z and (e>f and e>g and e>h and e>i) else f if z and (f>e and f>g and f>h and f>i) else g if z and (g>e and g>f and g>h and g>i) else h if z and (h>e and h>f and h>g and h>i) else i if z and (i>e and i>f and i>g and i>h) else \"todos los numeros deben ser diferentes\")\n",
        "print(f\"El numero mayor es: {mayor}\" if z else \"todos los numeros deben ser diferentes\")"
      ]
    },
    {
      "cell_type": "code",
      "source": [
        "b=input(\"Ingrese una letra \")\n",
        "b=b[0]\n",
        "if b==\"a\" or b==\"e\" or b==\"i\" or b==\"o\" or b==\"u\": print(\"Es una vocal en minúscula\")\n",
        "elif b==\"A\" or b==\"E\" or b==\"I\" or b==\"O\" or b==\"U\": print(\"Es una vocal en mayúscula\")\n",
        "else: print(\"No es una vocal\")\n",
        "\n",
        "\n",
        "\n",
        "a=input(\"Ingrese una letra \")\n",
        "a=a[0]\n",
        "match a:\n",
        "  case \"a\": print(\"Es una vocal en minúscula\")\n",
        "  case \"A\": print(\"Es una vocal en mayúscula\")\n",
        "  case \"e\": print(\"Es una vocal en minúscula\")\n",
        "  case \"E\": print(\"Es una vocal en mayúscula\")\n",
        "  case \"i\": print(\"Es una vocal en minúscula\")\n",
        "  case \"I\": print(\"Es una vocal en mayúscula\")\n",
        "  case \"o\": print(\"Es una vocal en minúscula\")\n",
        "  case \"O\": print(\"Es una vocal en mayúscula\")\n",
        "  case \"u\": print(\"Es una vocal en minúscula\")\n",
        "  case \"U\": print(\"Es una vocal en mayúscula\")\n",
        "  case _: print(\"No es una vocal\")\n"
      ],
      "metadata": {
        "id": "6hK0X8rBhJRh"
      },
      "execution_count": null,
      "outputs": []
    }
  ]
}