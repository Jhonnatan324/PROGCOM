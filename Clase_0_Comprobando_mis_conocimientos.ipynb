{
  "nbformat": 4,
  "nbformat_minor": 0,
  "metadata": {
    "colab": {
      "provenance": []
    },
    "kernelspec": {
      "name": "python3",
      "display_name": "Python 3"
    },
    "language_info": {
      "name": "python"
    }
  },
  "cells": [
    {
      "cell_type": "markdown",
      "source": [
        "#Prueba de evaluación de conocimientos"
      ],
      "metadata": {
        "id": "biOmUl62FHPj"
      }
    },
    {
      "cell_type": "markdown",
      "source": [
        "##Tipo de datos\n",
        "1.Númerico\n",
        "- Entero: integer int\n",
        "- Decimal:float\n",
        "2. Alfanúmerico o cadena de caracteres\n",
        "(String - str)\n",
        "3. Lógico>: Boolean - bool\n",
        "4. Lista: list []\n",
        "5. Diccionario: dict {}\n",
        "\n",
        "Para saber que tipo de datos estamos manipulando se usan la función type()\n"
      ],
      "metadata": {
        "id": "TxP9KVlDFoIr"
      }
    },
    {
      "cell_type": "code",
      "execution_count": null,
      "metadata": {
        "colab": {
          "base_uri": "https://localhost:8080/"
        },
        "id": "O0TLfY5UExU4",
        "outputId": "8887dc9d-abd0-4deb-b12c-85989b47b040"
      },
      "outputs": [
        {
          "output_type": "execute_result",
          "data": {
            "text/plain": [
              "17"
            ]
          },
          "metadata": {},
          "execution_count": 3
        }
      ],
      "source": [
        "5+3*4\n",
        "\n"
      ]
    },
    {
      "cell_type": "code",
      "source": [
        "type(5+3*4)"
      ],
      "metadata": {
        "colab": {
          "base_uri": "https://localhost:8080/"
        },
        "id": "hH2UfEn9HLzr",
        "outputId": "223c25fe-f069-4b85-c520-3370596ca5b8"
      },
      "execution_count": null,
      "outputs": [
        {
          "output_type": "execute_result",
          "data": {
            "text/plain": [
              "int"
            ]
          },
          "metadata": {},
          "execution_count": 4
        }
      ]
    },
    {
      "cell_type": "code",
      "source": [
        "print(f\"5+3*4={5+3*4}y da como resultado un valor de tipo {type(5+3*4)}\")"
      ],
      "metadata": {
        "colab": {
          "base_uri": "https://localhost:8080/"
        },
        "id": "V6wFlEqlHc3a",
        "outputId": "9eb88a0b-9b7b-4cbc-d9f9-0961a63d4fb5"
      },
      "execution_count": null,
      "outputs": [
        {
          "output_type": "stream",
          "name": "stdout",
          "text": [
            "5+3*4=17y da como resultado un valor de tipo <class 'int'>\n"
          ]
        }
      ]
    },
    {
      "cell_type": "code",
      "source": [
        "#Cuando se usa + en strings , sucede la concatenación\n",
        "\"5\"+\"3\"*2"
      ],
      "metadata": {
        "colab": {
          "base_uri": "https://localhost:8080/",
          "height": 35
        },
        "id": "90ABOZe_H_ba",
        "outputId": "a2186776-81a8-4338-9ef0-7f4c842157d6"
      },
      "execution_count": null,
      "outputs": [
        {
          "output_type": "execute_result",
          "data": {
            "text/plain": [
              "'533'"
            ],
            "application/vnd.google.colaboratory.intrinsic+json": {
              "type": "string"
            }
          },
          "metadata": {},
          "execution_count": 5
        }
      ]
    },
    {
      "cell_type": "code",
      "source": [
        "#= asignacion , == es comparacion\n",
        "2 ** 11 == 1000"
      ],
      "metadata": {
        "colab": {
          "base_uri": "https://localhost:8080/"
        },
        "id": "lozangCxIlmZ",
        "outputId": "bdf5f1a6-b31b-429b-a974-5e830c0653a4"
      },
      "execution_count": null,
      "outputs": [
        {
          "output_type": "execute_result",
          "data": {
            "text/plain": [
              "False"
            ]
          },
          "metadata": {},
          "execution_count": 6
        }
      ]
    },
    {
      "cell_type": "markdown",
      "source": [
        "##Operaciones logicas\n",
        "1. Disyunción (o): Una proposición es verdadera , si al menos una de ella lo es. En python se puede enunciar con la palabra **or** o con **||**. Ejemplo: V OR V DA V. V OR F DA V. F OR V DA V. F OR F DA F.\n",
        "2. Conjunción (Y): Una preposición es verdadera , si Y SOLO SI, ambas preposiciones son veraderas. En python, se utiliza la palabra **and** o **&&** para su uso. Ejemplo: F and F da F; F and V da F; V and F da F; V and V da V\n",
        "3. Negación (no): Niega el valor de verdad de una preposición . Si el valor de verdad es true, se vuelve false. En python ese usa la palabra **not** o ~ para denotarla"
      ],
      "metadata": {
        "id": "8cT_4FDTJJrB"
      }
    },
    {
      "cell_type": "code",
      "source": [
        "a=2 ** 11 == 1000 or 2 ** 9 == 100"
      ],
      "metadata": {
        "id": "S7Qe2u7jK-Uw"
      },
      "execution_count": null,
      "outputs": []
    },
    {
      "cell_type": "code",
      "source": [
        "print(f\"2 ** 11 == 1000 or 2 ** 9 == 100={2 ** 11 == 1000 or 2 ** 9 == 100} y da como resultado un valor de tipo {type(2 ** 11 == 1000 or 2 ** 9 == 100)}\")"
      ],
      "metadata": {
        "colab": {
          "base_uri": "https://localhost:8080/"
        },
        "id": "yQCX4lX6LVrf",
        "outputId": "e9399643-dc78-46d8-942b-9448353805b1"
      },
      "execution_count": null,
      "outputs": [
        {
          "output_type": "stream",
          "name": "stdout",
          "text": [
            "2 ** 11 == 1000 or 2 ** 9 == 100=False y da como resultado un valor de tipo <class 'bool'>\n"
          ]
        }
      ]
    },
    {
      "cell_type": "code",
      "source": [
        "print(f\"El valor de la expresión a=2 **11 == 1000 or 2 ** 9 == 100 es {a}\")"
      ],
      "metadata": {
        "colab": {
          "base_uri": "https://localhost:8080/"
        },
        "id": "s4cyPZmqMAXu",
        "outputId": "dad585ae-1202-49ad-945f-c93cb3be5c76"
      },
      "execution_count": null,
      "outputs": [
        {
          "output_type": "stream",
          "name": "stdout",
          "text": [
            "El valor de la expresión a=2 **11 == 1000 or 2 ** 9 == 100 es False\n"
          ]
        }
      ]
    },
    {
      "cell_type": "code",
      "source": [
        "#colocar un tipo de dato antes del dato , se usa para transformar el dato dentro del parentesis eb el dato por fuera del parentesis\n",
        "int(\"cincuenta\")"
      ],
      "metadata": {
        "colab": {
          "base_uri": "https://localhost:8080/",
          "height": 141
        },
        "id": "SxdzN-k6Ms6m",
        "outputId": "c8452176-4c11-4e21-d79d-07f1e2aa2aed"
      },
      "execution_count": null,
      "outputs": [
        {
          "output_type": "error",
          "ename": "ValueError",
          "evalue": "invalid literal for int() with base 10: 'cincuenta'",
          "traceback": [
            "\u001b[0;31m---------------------------------------------------------------------------\u001b[0m",
            "\u001b[0;31mValueError\u001b[0m                                Traceback (most recent call last)",
            "\u001b[0;32m<ipython-input-14-a15ff880c080>\u001b[0m in \u001b[0;36m<cell line: 1>\u001b[0;34m()\u001b[0m\n\u001b[0;32m----> 1\u001b[0;31m \u001b[0mint\u001b[0m\u001b[0;34m(\u001b[0m\u001b[0;34m\"cincuenta\"\u001b[0m\u001b[0;34m)\u001b[0m\u001b[0;34m\u001b[0m\u001b[0;34m\u001b[0m\u001b[0m\n\u001b[0m",
            "\u001b[0;31mValueError\u001b[0m: invalid literal for int() with base 10: 'cincuenta'"
          ]
        }
      ]
    },
    {
      "cell_type": "code",
      "source": [
        "int(\"50\")"
      ],
      "metadata": {
        "colab": {
          "base_uri": "https://localhost:8080/"
        },
        "id": "F01uopKaNhrt",
        "outputId": "62ed727f-ae40-4d5e-b9f3-e33098603305"
      },
      "execution_count": null,
      "outputs": [
        {
          "output_type": "execute_result",
          "data": {
            "text/plain": [
              "50"
            ]
          },
          "metadata": {},
          "execution_count": 16
        }
      ]
    },
    {
      "cell_type": "code",
      "source": [
        "#Siempre que halla una division el resultado dará flotante o decimal\n",
        "16/16 + 384/24"
      ],
      "metadata": {
        "colab": {
          "base_uri": "https://localhost:8080/"
        },
        "id": "U5hUvNQmN7Xt",
        "outputId": "e5cfee74-c4ba-49ee-b925-9182bb5cb474"
      },
      "execution_count": null,
      "outputs": [
        {
          "output_type": "execute_result",
          "data": {
            "text/plain": [
              "17.0"
            ]
          },
          "metadata": {},
          "execution_count": 17
        }
      ]
    },
    {
      "cell_type": "code",
      "source": [
        "print(f\"16/16 + 384/24={16/16 + 384/24} y da como resultado un valor de tipo {type(16/16 + 384/24)}\")"
      ],
      "metadata": {
        "colab": {
          "base_uri": "https://localhost:8080/"
        },
        "id": "5E1wRtzpOrD0",
        "outputId": "306cd88f-71f8-45f0-b350-cbe040fda7c2"
      },
      "execution_count": null,
      "outputs": [
        {
          "output_type": "stream",
          "name": "stdout",
          "text": [
            "16/16 + 384/24=17.0 y da como resultado un valor de tipo <class 'float'>\n"
          ]
        }
      ]
    },
    {
      "cell_type": "code",
      "source": [
        "0 < (4096 % 10) < 6"
      ],
      "metadata": {
        "colab": {
          "base_uri": "https://localhost:8080/"
        },
        "id": "2xVWo39XQbgD",
        "outputId": "f00e4a4b-b2d2-4f6b-e61f-50bd756cf031"
      },
      "execution_count": null,
      "outputs": [
        {
          "output_type": "execute_result",
          "data": {
            "text/plain": [
              "False"
            ]
          },
          "metadata": {},
          "execution_count": 20
        }
      ]
    },
    {
      "cell_type": "code",
      "source": [
        "'Max' + 'Min'"
      ],
      "metadata": {
        "colab": {
          "base_uri": "https://localhost:8080/",
          "height": 35
        },
        "id": "qefXcZnrQobT",
        "outputId": "ddfbc67d-034f-47a8-b597-66e1a89a804f"
      },
      "execution_count": null,
      "outputs": [
        {
          "output_type": "execute_result",
          "data": {
            "text/plain": [
              "'MaxMin'"
            ],
            "application/vnd.google.colaboratory.intrinsic+json": {
              "type": "string"
            }
          },
          "metadata": {},
          "execution_count": 21
        }
      ]
    },
    {
      "cell_type": "code",
      "source": [
        "print(f\"'Max' + 'Min'={'Max' + 'Min'} y da como resultado un valor de tipo {type('Max' + 'Min')}\")"
      ],
      "metadata": {
        "colab": {
          "base_uri": "https://localhost:8080/"
        },
        "id": "mDgm_xjfQ63j",
        "outputId": "01de3b85-a503-4178-ba9b-109feb27e406"
      },
      "execution_count": null,
      "outputs": [
        {
          "output_type": "stream",
          "name": "stdout",
          "text": [
            "'Max' + 'Min'=MaxMin y da como resultado un valor de tipo <class 'str'>\n"
          ]
        }
      ]
    },
    {
      "cell_type": "code",
      "source": [
        "#ABC() es una funcion no definida\n",
        "ABC() * DEF()"
      ],
      "metadata": {
        "colab": {
          "base_uri": "https://localhost:8080/",
          "height": 141
        },
        "id": "eCbhtH2ER6OR",
        "outputId": "97070451-e127-4e45-9211-f18fab7816d0"
      },
      "execution_count": null,
      "outputs": [
        {
          "output_type": "error",
          "ename": "NameError",
          "evalue": "name 'ABC' is not defined",
          "traceback": [
            "\u001b[0;31m---------------------------------------------------------------------------\u001b[0m",
            "\u001b[0;31mNameError\u001b[0m                                 Traceback (most recent call last)",
            "\u001b[0;32m<ipython-input-24-b03c5ee783c9>\u001b[0m in \u001b[0;36m<cell line: 1>\u001b[0;34m()\u001b[0m\n\u001b[0;32m----> 1\u001b[0;31m \u001b[0mABC\u001b[0m\u001b[0;34m(\u001b[0m\u001b[0;34m)\u001b[0m \u001b[0;34m*\u001b[0m \u001b[0mDEF\u001b[0m\u001b[0;34m(\u001b[0m\u001b[0;34m)\u001b[0m\u001b[0;34m\u001b[0m\u001b[0;34m\u001b[0m\u001b[0m\n\u001b[0m",
            "\u001b[0;31mNameError\u001b[0m: name 'ABC' is not defined"
          ]
        }
      ]
    },
    {
      "cell_type": "code",
      "source": [
        "float(-int(\"7\")+int('90'))"
      ],
      "metadata": {
        "colab": {
          "base_uri": "https://localhost:8080/"
        },
        "id": "GCLdQniVSh2B",
        "outputId": "aaabb6c9-0641-4798-ab54-fb59fa7aff03"
      },
      "execution_count": null,
      "outputs": [
        {
          "output_type": "execute_result",
          "data": {
            "text/plain": [
              "83.0"
            ]
          },
          "metadata": {},
          "execution_count": 25
        }
      ]
    },
    {
      "cell_type": "code",
      "source": [
        "abs(len('seis') - len('tres'))\n"
      ],
      "metadata": {
        "colab": {
          "base_uri": "https://localhost:8080/"
        },
        "id": "gpKhBk9RTE-B",
        "outputId": "8ab7daaa-6440-49b5-d5ae-dd2c930efff4"
      },
      "execution_count": null,
      "outputs": [
        {
          "output_type": "execute_result",
          "data": {
            "text/plain": [
              "0"
            ]
          },
          "metadata": {},
          "execution_count": 28
        }
      ]
    },
    {
      "cell_type": "markdown",
      "source": [
        "abs(len('seis') - len('tres'))\n",
        "\n",
        "1. abs = valor absoluto\n",
        "2. len = cuenta la cantidad de letras de un string\n",
        "\n",
        "- len('seis')=4\n",
        "- len('tres)=4\n"
      ],
      "metadata": {
        "id": "OICMU_YqTduY"
      }
    },
    {
      "cell_type": "code",
      "source": [
        "#Todos los números a excepción de 0 , da true al convertirlos en booleanos\n",
        "bool(1210) or bool(-3465)"
      ],
      "metadata": {
        "colab": {
          "base_uri": "https://localhost:8080/"
        },
        "id": "S3WzmEoXUVI3",
        "outputId": "03142212-63e0-41c9-ab6f-4f5b39fd46cf"
      },
      "execution_count": null,
      "outputs": [
        {
          "output_type": "execute_result",
          "data": {
            "text/plain": [
              "False"
            ]
          },
          "metadata": {},
          "execution_count": 33
        }
      ]
    },
    {
      "cell_type": "code",
      "source": [
        "#Todos los string son listas, por ende, podemos conocer la posición de cada uno de sus elementos, en python se empiexa contando desde 0\n",
        "str(296.0) [3]"
      ],
      "metadata": {
        "id": "r--CF_7qWFUe"
      },
      "execution_count": null,
      "outputs": []
    },
    {
      "cell_type": "code",
      "source": [
        "float(str(int('8'*3)/3)[3])"
      ],
      "metadata": {
        "colab": {
          "base_uri": "https://localhost:8080/",
          "height": 141
        },
        "id": "IOQOvFpRVCPf",
        "outputId": "cbbadb59-af81-41a4-d91c-51f6383fde20"
      },
      "execution_count": null,
      "outputs": [
        {
          "output_type": "error",
          "ename": "ValueError",
          "evalue": "could not convert string to float: '.'",
          "traceback": [
            "\u001b[0;31m---------------------------------------------------------------------------\u001b[0m",
            "\u001b[0;31mValueError\u001b[0m                                Traceback (most recent call last)",
            "\u001b[0;32m<ipython-input-34-3f01b5c33746>\u001b[0m in \u001b[0;36m<cell line: 1>\u001b[0;34m()\u001b[0m\n\u001b[0;32m----> 1\u001b[0;31m \u001b[0mfloat\u001b[0m\u001b[0;34m(\u001b[0m\u001b[0mstr\u001b[0m\u001b[0;34m(\u001b[0m\u001b[0mint\u001b[0m\u001b[0;34m(\u001b[0m\u001b[0;34m'8'\u001b[0m\u001b[0;34m*\u001b[0m\u001b[0;36m3\u001b[0m\u001b[0;34m)\u001b[0m\u001b[0;34m/\u001b[0m\u001b[0;36m3\u001b[0m\u001b[0;34m)\u001b[0m\u001b[0;34m[\u001b[0m\u001b[0;36m3\u001b[0m\u001b[0;34m]\u001b[0m\u001b[0;34m)\u001b[0m\u001b[0;34m\u001b[0m\u001b[0;34m\u001b[0m\u001b[0m\n\u001b[0m",
            "\u001b[0;31mValueError\u001b[0m: could not convert string to float: '.'"
          ]
        }
      ]
    }
  ]
}